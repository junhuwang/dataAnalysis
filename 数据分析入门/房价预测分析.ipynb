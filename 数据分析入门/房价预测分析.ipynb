{
 "cells": [
  {
   "cell_type": "code",
   "execution_count": 60,
   "metadata": {},
   "outputs": [],
   "source": [
    "import pandas as pd\n",
    "import numpy as np\n",
    "import seaborn as sns\n",
    "import matplotlib as mpl\n",
    "import matplotlib.pyplot as plt \n",
    "\n",
    "from IPython.display import display\n",
    "plt.style.use('fivethirtyeight')\n",
    "sns.set_style({'font.sans-serif':['simhei','Arial']})\n",
    "%matplotlib inline"
   ]
  },
  {
   "cell_type": "code",
   "execution_count": 61,
   "metadata": {},
   "outputs": [
    {
     "data": {
      "text/markdown": [
       "\n",
       "### 数据初探 \n",
       "- 了解数据特征的缺失值、异常值以及大概的描述性统计\n"
      ],
      "text/plain": [
       "<IPython.core.display.Markdown object>"
      ]
     },
     "metadata": {},
     "output_type": "display_data"
    }
   ],
   "source": [
    "%%markdown \n",
    "\n",
    "### 数据初探 \n",
    "- 了解数据特征的缺失值、异常值以及大概的描述性统计\n"
   ]
  },
  {
   "cell_type": "code",
   "execution_count": 62,
   "metadata": {},
   "outputs": [
    {
     "data": {
      "text/html": [
       "<div>\n",
       "<style scoped>\n",
       "    .dataframe tbody tr th:only-of-type {\n",
       "        vertical-align: middle;\n",
       "    }\n",
       "\n",
       "    .dataframe tbody tr th {\n",
       "        vertical-align: top;\n",
       "    }\n",
       "\n",
       "    .dataframe thead th {\n",
       "        text-align: right;\n",
       "    }\n",
       "</style>\n",
       "<table border=\"1\" class=\"dataframe\">\n",
       "  <thead>\n",
       "    <tr style=\"text-align: right;\">\n",
       "      <th></th>\n",
       "      <th>Direction</th>\n",
       "      <th>District</th>\n",
       "      <th>Elevator</th>\n",
       "      <th>Floor</th>\n",
       "      <th>Garden</th>\n",
       "      <th>Id</th>\n",
       "      <th>Layout</th>\n",
       "      <th>Price</th>\n",
       "      <th>Region</th>\n",
       "      <th>Renovation</th>\n",
       "      <th>Size</th>\n",
       "      <th>Year</th>\n",
       "    </tr>\n",
       "  </thead>\n",
       "  <tbody>\n",
       "    <tr>\n",
       "      <th>0</th>\n",
       "      <td>东西</td>\n",
       "      <td>灯市口</td>\n",
       "      <td>NaN</td>\n",
       "      <td>6</td>\n",
       "      <td>锡拉胡同21号院</td>\n",
       "      <td>101102647043</td>\n",
       "      <td>3室1厅</td>\n",
       "      <td>780.0</td>\n",
       "      <td>东城</td>\n",
       "      <td>精装</td>\n",
       "      <td>75.0</td>\n",
       "      <td>1988</td>\n",
       "    </tr>\n",
       "    <tr>\n",
       "      <th>1</th>\n",
       "      <td>南北</td>\n",
       "      <td>东单</td>\n",
       "      <td>无电梯</td>\n",
       "      <td>6</td>\n",
       "      <td>东华门大街</td>\n",
       "      <td>101102650978</td>\n",
       "      <td>2室1厅</td>\n",
       "      <td>705.0</td>\n",
       "      <td>东城</td>\n",
       "      <td>精装</td>\n",
       "      <td>60.0</td>\n",
       "      <td>1988</td>\n",
       "    </tr>\n",
       "    <tr>\n",
       "      <th>2</th>\n",
       "      <td>南西</td>\n",
       "      <td>崇文门</td>\n",
       "      <td>有电梯</td>\n",
       "      <td>16</td>\n",
       "      <td>新世界中心</td>\n",
       "      <td>101102672743</td>\n",
       "      <td>3室1厅</td>\n",
       "      <td>1400.0</td>\n",
       "      <td>东城</td>\n",
       "      <td>其他</td>\n",
       "      <td>210.0</td>\n",
       "      <td>1996</td>\n",
       "    </tr>\n",
       "    <tr>\n",
       "      <th>3</th>\n",
       "      <td>南</td>\n",
       "      <td>崇文门</td>\n",
       "      <td>NaN</td>\n",
       "      <td>7</td>\n",
       "      <td>兴隆都市馨园</td>\n",
       "      <td>101102577410</td>\n",
       "      <td>1室1厅</td>\n",
       "      <td>420.0</td>\n",
       "      <td>东城</td>\n",
       "      <td>精装</td>\n",
       "      <td>39.0</td>\n",
       "      <td>2004</td>\n",
       "    </tr>\n",
       "    <tr>\n",
       "      <th>4</th>\n",
       "      <td>南</td>\n",
       "      <td>陶然亭</td>\n",
       "      <td>有电梯</td>\n",
       "      <td>19</td>\n",
       "      <td>中海紫御公馆</td>\n",
       "      <td>101102574696</td>\n",
       "      <td>2室2厅</td>\n",
       "      <td>998.0</td>\n",
       "      <td>东城</td>\n",
       "      <td>精装</td>\n",
       "      <td>90.0</td>\n",
       "      <td>2010</td>\n",
       "    </tr>\n",
       "  </tbody>\n",
       "</table>\n",
       "</div>"
      ],
      "text/plain": [
       "  Direction District Elevator  Floor    Garden            Id Layout   Price  \\\n",
       "0        东西      灯市口      NaN      6  锡拉胡同21号院  101102647043   3室1厅   780.0   \n",
       "1        南北       东单      无电梯      6     东华门大街  101102650978   2室1厅   705.0   \n",
       "2        南西      崇文门      有电梯     16     新世界中心  101102672743   3室1厅  1400.0   \n",
       "3         南      崇文门      NaN      7    兴隆都市馨园  101102577410   1室1厅   420.0   \n",
       "4         南      陶然亭      有电梯     19    中海紫御公馆  101102574696   2室2厅   998.0   \n",
       "\n",
       "  Region Renovation   Size  Year  \n",
       "0     东城         精装   75.0  1988  \n",
       "1     东城         精装   60.0  1988  \n",
       "2     东城         其他  210.0  1996  \n",
       "3     东城         精装   39.0  2004  \n",
       "4     东城         精装   90.0  2010  "
      ]
     },
     "metadata": {},
     "output_type": "display_data"
    }
   ],
   "source": [
    "lianjia_df = pd.read_csv(\"lianjia.csv\")\n",
    "display(lianjia_df.head())"
   ]
  },
  {
   "cell_type": "code",
   "execution_count": 63,
   "metadata": {},
   "outputs": [
    {
     "data": {
      "text/markdown": [
       "- 初步了解数据共有`11`个特征变量，`price`是目标变量（Y），\n"
      ],
      "text/plain": [
       "<IPython.core.display.Markdown object>"
      ]
     },
     "metadata": {},
     "output_type": "display_data"
    }
   ],
   "source": [
    "%%markdown \n",
    "- 初步了解数据共有`11`个特征变量，`price`是目标变量（Y），"
   ]
  },
  {
   "cell_type": "code",
   "execution_count": 64,
   "metadata": {},
   "outputs": [
    {
     "name": "stdout",
     "output_type": "stream",
     "text": [
      "<class 'pandas.core.frame.DataFrame'>\n",
      "RangeIndex: 23677 entries, 0 to 23676\n",
      "Data columns (total 12 columns):\n",
      " #   Column      Non-Null Count  Dtype  \n",
      "---  ------      --------------  -----  \n",
      " 0   Direction   23677 non-null  object \n",
      " 1   District    23677 non-null  object \n",
      " 2   Elevator    15440 non-null  object \n",
      " 3   Floor       23677 non-null  int64  \n",
      " 4   Garden      23677 non-null  object \n",
      " 5   Id          23677 non-null  int64  \n",
      " 6   Layout      23677 non-null  object \n",
      " 7   Price       23677 non-null  float64\n",
      " 8   Region      23677 non-null  object \n",
      " 9   Renovation  23677 non-null  object \n",
      " 10  Size        23677 non-null  float64\n",
      " 11  Year        23677 non-null  int64  \n",
      "dtypes: float64(2), int64(3), object(7)\n",
      "memory usage: 2.2+ MB\n"
     ]
    }
   ],
   "source": [
    "lianjia_df.info()"
   ]
  },
  {
   "cell_type": "code",
   "execution_count": 65,
   "metadata": {},
   "outputs": [
    {
     "data": {
      "text/html": [
       "<div>\n",
       "<style scoped>\n",
       "    .dataframe tbody tr th:only-of-type {\n",
       "        vertical-align: middle;\n",
       "    }\n",
       "\n",
       "    .dataframe tbody tr th {\n",
       "        vertical-align: top;\n",
       "    }\n",
       "\n",
       "    .dataframe thead th {\n",
       "        text-align: right;\n",
       "    }\n",
       "</style>\n",
       "<table border=\"1\" class=\"dataframe\">\n",
       "  <thead>\n",
       "    <tr style=\"text-align: right;\">\n",
       "      <th></th>\n",
       "      <th>Floor</th>\n",
       "      <th>Id</th>\n",
       "      <th>Price</th>\n",
       "      <th>Size</th>\n",
       "      <th>Year</th>\n",
       "    </tr>\n",
       "  </thead>\n",
       "  <tbody>\n",
       "    <tr>\n",
       "      <th>count</th>\n",
       "      <td>23677.000000</td>\n",
       "      <td>2.367700e+04</td>\n",
       "      <td>23677.000000</td>\n",
       "      <td>23677.000000</td>\n",
       "      <td>23677.000000</td>\n",
       "    </tr>\n",
       "    <tr>\n",
       "      <th>mean</th>\n",
       "      <td>12.765088</td>\n",
       "      <td>1.011024e+11</td>\n",
       "      <td>610.668319</td>\n",
       "      <td>99.149301</td>\n",
       "      <td>2001.326519</td>\n",
       "    </tr>\n",
       "    <tr>\n",
       "      <th>std</th>\n",
       "      <td>7.643932</td>\n",
       "      <td>5.652477e+05</td>\n",
       "      <td>411.452107</td>\n",
       "      <td>50.988838</td>\n",
       "      <td>9.001996</td>\n",
       "    </tr>\n",
       "    <tr>\n",
       "      <th>min</th>\n",
       "      <td>1.000000</td>\n",
       "      <td>1.010886e+11</td>\n",
       "      <td>60.000000</td>\n",
       "      <td>2.000000</td>\n",
       "      <td>1950.000000</td>\n",
       "    </tr>\n",
       "    <tr>\n",
       "      <th>25%</th>\n",
       "      <td>6.000000</td>\n",
       "      <td>1.011022e+11</td>\n",
       "      <td>365.000000</td>\n",
       "      <td>66.000000</td>\n",
       "      <td>1997.000000</td>\n",
       "    </tr>\n",
       "    <tr>\n",
       "      <th>50%</th>\n",
       "      <td>11.000000</td>\n",
       "      <td>1.011025e+11</td>\n",
       "      <td>499.000000</td>\n",
       "      <td>88.000000</td>\n",
       "      <td>2003.000000</td>\n",
       "    </tr>\n",
       "    <tr>\n",
       "      <th>75%</th>\n",
       "      <td>18.000000</td>\n",
       "      <td>1.011027e+11</td>\n",
       "      <td>717.000000</td>\n",
       "      <td>118.000000</td>\n",
       "      <td>2007.000000</td>\n",
       "    </tr>\n",
       "    <tr>\n",
       "      <th>max</th>\n",
       "      <td>57.000000</td>\n",
       "      <td>1.011028e+11</td>\n",
       "      <td>6000.000000</td>\n",
       "      <td>1019.000000</td>\n",
       "      <td>2017.000000</td>\n",
       "    </tr>\n",
       "  </tbody>\n",
       "</table>\n",
       "</div>"
      ],
      "text/plain": [
       "              Floor            Id         Price          Size          Year\n",
       "count  23677.000000  2.367700e+04  23677.000000  23677.000000  23677.000000\n",
       "mean      12.765088  1.011024e+11    610.668319     99.149301   2001.326519\n",
       "std        7.643932  5.652477e+05    411.452107     50.988838      9.001996\n",
       "min        1.000000  1.010886e+11     60.000000      2.000000   1950.000000\n",
       "25%        6.000000  1.011022e+11    365.000000     66.000000   1997.000000\n",
       "50%       11.000000  1.011025e+11    499.000000     88.000000   2003.000000\n",
       "75%       18.000000  1.011027e+11    717.000000    118.000000   2007.000000\n",
       "max       57.000000  1.011028e+11   6000.000000   1019.000000   2017.000000"
      ]
     },
     "execution_count": 65,
     "metadata": {},
     "output_type": "execute_result"
    }
   ],
   "source": [
    "lianjia_df.describe()"
   ]
  },
  {
   "cell_type": "code",
   "execution_count": 66,
   "metadata": {},
   "outputs": [
    {
     "data": {
      "text/markdown": [
       "**`以上描述性分析发现数据集具有以下特质`**\n",
       "- 发现数据集共有23677 Elevator特征有明显缺失\n",
       "- Size 特征有可能存在异常值（异常值对模型性能影响较大 需要特别关注）\n"
      ],
      "text/plain": [
       "<IPython.core.display.Markdown object>"
      ]
     },
     "metadata": {},
     "output_type": "display_data"
    }
   ],
   "source": [
    "%%markdown\n",
    "**`以上描述性分析发现数据集具有以下特质`**\n",
    "- 发现数据集共有23677 Elevator特征有明显缺失\n",
    "- Size 特征有可能存在异常值（异常值对模型性能影响较大 需要特别关注）"
   ]
  },
  {
   "cell_type": "code",
   "execution_count": 67,
   "metadata": {},
   "outputs": [
    {
     "data": {
      "text/markdown": [
       "### 数据可视化分析\n"
      ],
      "text/plain": [
       "<IPython.core.display.Markdown object>"
      ]
     },
     "metadata": {},
     "output_type": "display_data"
    }
   ],
   "source": [
    "%%markdown\n",
    "### 数据可视化分析"
   ]
  },
  {
   "cell_type": "code",
   "execution_count": 68,
   "metadata": {},
   "outputs": [
    {
     "data": {
      "text/plain": [
       "0    10.400000\n",
       "1    11.750000\n",
       "2     6.666667\n",
       "3    10.769231\n",
       "4    11.088889\n",
       "Name: PerPrice, dtype: float64"
      ]
     },
     "execution_count": 68,
     "metadata": {},
     "output_type": "execute_result"
    }
   ],
   "source": [
    "df_copy = lianjia_df.copy()\n",
    "df_copy['PerPrice'] = lianjia_df['Price']/lianjia_df['Size']\n",
    "df_copy['PerPrice'].head()"
   ]
  },
  {
   "cell_type": "code",
   "execution_count": 69,
   "metadata": {},
   "outputs": [],
   "source": [
    "# Region 分析\n",
    "\n",
    "df_house_count = df_copy.groupby('Region')['Price'].count().sort_values(ascending=False).to_frame().reset_index()\n",
    "df_house_mean  = df_copy.groupby('Region')['PerPrice'].mean().sort_values(ascending=False).to_frame().reset_index()\n"
   ]
  },
  {
   "cell_type": "code",
   "execution_count": 70,
   "metadata": {},
   "outputs": [
    {
     "data": {
      "image/png": "[encoded data removed]",
      "text/plain": [
       "<Figure size 1440x1080 with 3 Axes>"
      ]
     },
     "metadata": {
      "needs_background": "light"
     },
     "output_type": "display_data"
    }
   ],
   "source": [
    "f,[ax1,ax2,ax3] = plt.subplots(3,1,figsize=(20,15))\n",
    "sns.barplot(x = 'Region',y='PerPrice',palette='Blues_d',data=df_house_mean,ax=ax1)\n",
    "ax1.set_title(\"北京各大区二手房每平米单价对比\",fontsize=15)\n",
    "ax1.set_xlabel('区域')\n",
    "ax1.set_ylabel('每平米单价')\n",
    "\n",
    "\n",
    "sns.barplot(x = 'Region',y='Price',palette='Greens_d',data=df_house_count,ax=ax2)\n",
    "ax2.set_title(\"北京各大区二手房数量对比\",fontsize=15)\n",
    "ax2.set_xlabel('区域')\n",
    "ax2.set_ylabel('数量')\n",
    "\n",
    "\n",
    "sns.boxplot(x = 'Region',y='Price',data=df_copy,ax=ax3)\n",
    "ax3.set_title(\"北京各大区二手房总价\",fontsize=15)\n",
    "ax3.set_xlabel('区域')\n",
    "ax3.set_ylabel('房屋总价')\n",
    "plt.show()"
   ]
  },
  {
   "cell_type": "code",
   "execution_count": 71,
   "metadata": {},
   "outputs": [
    {
     "data": {
      "text/markdown": [
       "可以观察到：\n",
       "- **二手房房均价：** 西城区房价最高大约为11万，因为西城区在二环以里，并且也是热门学区房的聚集地，其次是东城区大约为10万/平米，然后是海淀区大约为8.5万每平米\n",
       "\n",
       "- **二手房数量：** 单从数量统计上来看，目前海淀、朝阳、丰台为二手房市场较为火热区域，差不多接近3000套\n",
       "- **二手房总价：** 通过箱线图发现，各区房价中位数集中在1000万以下，且离散值较高，说明房屋价格特征不是理想的正态分布\n"
      ],
      "text/plain": [
       "<IPython.core.display.Markdown object>"
      ]
     },
     "metadata": {},
     "output_type": "display_data"
    }
   ],
   "source": [
    "%%markdown\n",
    "可以观察到：\n",
    "- **二手房房均价：** 西城区房价最高大约为11万，因为西城区在二环以里，并且也是热门学区房的聚集地，其次是东城区大约为10万/平米，然后是海淀区大约为8.5万每平米\n",
    "\n",
    "- **二手房数量：** 单从数量统计上来看，目前海淀、朝阳、丰台为二手房市场较为火热区域，差不多接近3000套\n",
    "- **二手房总价：** 通过箱线图发现，各区房价中位数集中在1000万以下，且离散值较高，说明房屋价格特征不是理想的正态分布"
   ]
  },
  {
   "cell_type": "code",
   "execution_count": 72,
   "metadata": {},
   "outputs": [
    {
     "data": {
      "image/png": "[encoded data removed]",
      "text/plain": [
       "<Figure size 1080x360 with 2 Axes>"
      ]
     },
     "metadata": {
      "needs_background": "light"
     },
     "output_type": "display_data"
    }
   ],
   "source": [
    "# Size 分析\n",
    "f,[ax1,ax2] = plt.subplots(1,2,figsize=(15,5))\n",
    "sns.distplot(df_copy[\"Size\"],bins=20,ax=ax1,color='r')\n",
    "sns.kdeplot(df_copy[\"Size\"],shade=True,ax=ax1)\n",
    "sns.regplot(x='Size',y=\"Price\",data=df_copy,ax=ax2)\n",
    "plt.show()\n"
   ]
  },
  {
   "cell_type": "code",
   "execution_count": 73,
   "metadata": {},
   "outputs": [
    {
     "data": {
      "text/markdown": [
       "> 通过distplot 和 kdeplot绘制柱状图观察Size特征分布情况，属于长尾类型分布，这说明有很多面积很大且超出正常范围的二手房\n",
       "> 通过regplot 绘制Size 和 Price之间散点图，发现Size特征基本和Price呈线性关系，符合基本常识，面积越大 价格越高。但是有明显异常点存在\n",
       ">   - 面积不足10平米，但是价格超出10000万\n",
       ">   - 面积超过1000平米，但是价格很低\n",
       "> 需要进一步分析\n"
      ],
      "text/plain": [
       "<IPython.core.display.Markdown object>"
      ]
     },
     "metadata": {},
     "output_type": "display_data"
    }
   ],
   "source": [
    "%%markdown\n",
    "> 通过distplot 和 kdeplot绘制柱状图观察Size特征分布情况，属于长尾类型分布，这说明有很多面积很大且超出正常范围的二手房\n",
    "> 通过regplot 绘制Size 和 Price之间散点图，发现Size特征基本和Price呈线性关系，符合基本常识，面积越大 价格越高。但是有明显异常点存在\n",
    ">   - 面积不足10平米，但是价格超出10000万\n",
    ">   - 面积超过1000平米，但是价格很低\n",
    "> 需要进一步分析"
   ]
  },
  {
   "cell_type": "code",
   "execution_count": 74,
   "metadata": {},
   "outputs": [
    {
     "data": {
      "text/html": [
       "<div>\n",
       "<style scoped>\n",
       "    .dataframe tbody tr th:only-of-type {\n",
       "        vertical-align: middle;\n",
       "    }\n",
       "\n",
       "    .dataframe tbody tr th {\n",
       "        vertical-align: top;\n",
       "    }\n",
       "\n",
       "    .dataframe thead th {\n",
       "        text-align: right;\n",
       "    }\n",
       "</style>\n",
       "<table border=\"1\" class=\"dataframe\">\n",
       "  <thead>\n",
       "    <tr style=\"text-align: right;\">\n",
       "      <th></th>\n",
       "      <th>Direction</th>\n",
       "      <th>District</th>\n",
       "      <th>Elevator</th>\n",
       "      <th>Floor</th>\n",
       "      <th>Garden</th>\n",
       "      <th>Id</th>\n",
       "      <th>Layout</th>\n",
       "      <th>Price</th>\n",
       "      <th>Region</th>\n",
       "      <th>Renovation</th>\n",
       "      <th>Size</th>\n",
       "      <th>Year</th>\n",
       "      <th>PerPrice</th>\n",
       "    </tr>\n",
       "  </thead>\n",
       "  <tbody>\n",
       "    <tr>\n",
       "      <th>0</th>\n",
       "      <td>东西</td>\n",
       "      <td>灯市口</td>\n",
       "      <td>NaN</td>\n",
       "      <td>6</td>\n",
       "      <td>锡拉胡同21号院</td>\n",
       "      <td>101102647043</td>\n",
       "      <td>3室1厅</td>\n",
       "      <td>780.0</td>\n",
       "      <td>东城</td>\n",
       "      <td>精装</td>\n",
       "      <td>75.0</td>\n",
       "      <td>1988</td>\n",
       "      <td>10.400000</td>\n",
       "    </tr>\n",
       "    <tr>\n",
       "      <th>1</th>\n",
       "      <td>南北</td>\n",
       "      <td>东单</td>\n",
       "      <td>无电梯</td>\n",
       "      <td>6</td>\n",
       "      <td>东华门大街</td>\n",
       "      <td>101102650978</td>\n",
       "      <td>2室1厅</td>\n",
       "      <td>705.0</td>\n",
       "      <td>东城</td>\n",
       "      <td>精装</td>\n",
       "      <td>60.0</td>\n",
       "      <td>1988</td>\n",
       "      <td>11.750000</td>\n",
       "    </tr>\n",
       "    <tr>\n",
       "      <th>2</th>\n",
       "      <td>南西</td>\n",
       "      <td>崇文门</td>\n",
       "      <td>有电梯</td>\n",
       "      <td>16</td>\n",
       "      <td>新世界中心</td>\n",
       "      <td>101102672743</td>\n",
       "      <td>3室1厅</td>\n",
       "      <td>1400.0</td>\n",
       "      <td>东城</td>\n",
       "      <td>其他</td>\n",
       "      <td>210.0</td>\n",
       "      <td>1996</td>\n",
       "      <td>6.666667</td>\n",
       "    </tr>\n",
       "    <tr>\n",
       "      <th>3</th>\n",
       "      <td>南</td>\n",
       "      <td>崇文门</td>\n",
       "      <td>NaN</td>\n",
       "      <td>7</td>\n",
       "      <td>兴隆都市馨园</td>\n",
       "      <td>101102577410</td>\n",
       "      <td>1室1厅</td>\n",
       "      <td>420.0</td>\n",
       "      <td>东城</td>\n",
       "      <td>精装</td>\n",
       "      <td>39.0</td>\n",
       "      <td>2004</td>\n",
       "      <td>10.769231</td>\n",
       "    </tr>\n",
       "    <tr>\n",
       "      <th>4</th>\n",
       "      <td>南</td>\n",
       "      <td>陶然亭</td>\n",
       "      <td>有电梯</td>\n",
       "      <td>19</td>\n",
       "      <td>中海紫御公馆</td>\n",
       "      <td>101102574696</td>\n",
       "      <td>2室2厅</td>\n",
       "      <td>998.0</td>\n",
       "      <td>东城</td>\n",
       "      <td>精装</td>\n",
       "      <td>90.0</td>\n",
       "      <td>2010</td>\n",
       "      <td>11.088889</td>\n",
       "    </tr>\n",
       "  </tbody>\n",
       "</table>\n",
       "</div>"
      ],
      "text/plain": [
       "  Direction District Elevator  Floor    Garden            Id Layout   Price  \\\n",
       "0        东西      灯市口      NaN      6  锡拉胡同21号院  101102647043   3室1厅   780.0   \n",
       "1        南北       东单      无电梯      6     东华门大街  101102650978   2室1厅   705.0   \n",
       "2        南西      崇文门      有电梯     16     新世界中心  101102672743   3室1厅  1400.0   \n",
       "3         南      崇文门      NaN      7    兴隆都市馨园  101102577410   1室1厅   420.0   \n",
       "4         南      陶然亭      有电梯     19    中海紫御公馆  101102574696   2室2厅   998.0   \n",
       "\n",
       "  Region Renovation   Size  Year   PerPrice  \n",
       "0     东城         精装   75.0  1988  10.400000  \n",
       "1     东城         精装   60.0  1988  11.750000  \n",
       "2     东城         其他  210.0  1996   6.666667  \n",
       "3     东城         精装   39.0  2004  10.769231  \n",
       "4     东城         精装   90.0  2010  11.088889  "
      ]
     },
     "execution_count": 74,
     "metadata": {},
     "output_type": "execute_result"
    }
   ],
   "source": [
    "df_copy.head()"
   ]
  },
  {
   "cell_type": "code",
   "execution_count": 75,
   "metadata": {},
   "outputs": [
    {
     "data": {
      "text/html": [
       "<div>\n",
       "<style scoped>\n",
       "    .dataframe tbody tr th:only-of-type {\n",
       "        vertical-align: middle;\n",
       "    }\n",
       "\n",
       "    .dataframe tbody tr th {\n",
       "        vertical-align: top;\n",
       "    }\n",
       "\n",
       "    .dataframe thead th {\n",
       "        text-align: right;\n",
       "    }\n",
       "</style>\n",
       "<table border=\"1\" class=\"dataframe\">\n",
       "  <thead>\n",
       "    <tr style=\"text-align: right;\">\n",
       "      <th></th>\n",
       "      <th>Direction</th>\n",
       "      <th>District</th>\n",
       "      <th>Elevator</th>\n",
       "      <th>Floor</th>\n",
       "      <th>Garden</th>\n",
       "      <th>Id</th>\n",
       "      <th>Layout</th>\n",
       "      <th>Price</th>\n",
       "      <th>Region</th>\n",
       "      <th>Renovation</th>\n",
       "      <th>Size</th>\n",
       "      <th>Year</th>\n",
       "      <th>PerPrice</th>\n",
       "    </tr>\n",
       "  </thead>\n",
       "  <tbody>\n",
       "    <tr>\n",
       "      <th>8754</th>\n",
       "      <td>南</td>\n",
       "      <td>通州其它</td>\n",
       "      <td>有电梯</td>\n",
       "      <td>8</td>\n",
       "      <td>新华联科技大厦</td>\n",
       "      <td>101102019411</td>\n",
       "      <td>1房间0卫</td>\n",
       "      <td>1700.0</td>\n",
       "      <td>通州</td>\n",
       "      <td>简装</td>\n",
       "      <td>1019.0</td>\n",
       "      <td>2009</td>\n",
       "      <td>1.668302</td>\n",
       "    </tr>\n",
       "  </tbody>\n",
       "</table>\n",
       "</div>"
      ],
      "text/plain": [
       "     Direction District Elevator  Floor   Garden            Id Layout   Price  \\\n",
       "8754         南     通州其它      有电梯      8  新华联科技大厦  101102019411  1房间0卫  1700.0   \n",
       "\n",
       "     Region Renovation    Size  Year  PerPrice  \n",
       "8754     通州         简装  1019.0  2009  1.668302  "
      ]
     },
     "execution_count": 75,
     "metadata": {},
     "output_type": "execute_result"
    }
   ],
   "source": [
    "df_copy[df_copy[\"Size\"]>1000]"
   ]
  },
  {
   "cell_type": "code",
   "execution_count": 76,
   "metadata": {},
   "outputs": [
    {
     "data": {
      "text/markdown": [
       "> 检查发现，这组数据为别墅，出现异常原因是由于别墅构造比较特殊（无朝向、无电梯）应该是该类型数据获取时出现的问题，且该类型不在解决问题范围可以考虑移除\n",
       "> 大于1000平米数据异常有可能属于商业用房，已租赁为主，故选择删除\n"
      ],
      "text/plain": [
       "<IPython.core.display.Markdown object>"
      ]
     },
     "metadata": {},
     "output_type": "display_data"
    }
   ],
   "source": [
    "%%markdown\n",
    "> 检查发现，这组数据为别墅，出现异常原因是由于别墅构造比较特殊（无朝向、无电梯）应该是该类型数据获取时出现的问题，且该类型不在解决问题范围可以考虑移除\n",
    "> 大于1000平米数据异常有可能属于商业用房，已租赁为主，故选择删除"
   ]
  },
  {
   "cell_type": "code",
   "execution_count": 77,
   "metadata": {},
   "outputs": [
    {
     "data": {
      "image/png": "[encoded data removed]",
      "text/plain": [
       "<Figure size 1080x360 with 2 Axes>"
      ]
     },
     "metadata": {
      "needs_background": "light"
     },
     "output_type": "display_data"
    }
   ],
   "source": [
    "df_copy = df_copy[(df_copy[\"Layout\"]!=\"叠拼别墅\") & (df_copy[\"Size\"] < 1000)]\n",
    "# Size 分析\n",
    "f,[ax1,ax2] = plt.subplots(1,2,figsize=(15,5))\n",
    "sns.distplot(df_copy[\"Size\"],bins=20,ax=ax1,color='r')\n",
    "sns.kdeplot(df_copy[\"Size\"],shade=True,ax=ax1)\n",
    "sns.regplot(x='Size',y=\"Price\",data=df_copy,ax=ax2)\n",
    "plt.show()\n"
   ]
  },
  {
   "cell_type": "code",
   "execution_count": 78,
   "metadata": {},
   "outputs": [
    {
     "data": {
      "text/plain": [
       "精装    11345\n",
       "简装     8496\n",
       "其他     3239\n",
       "毛坯      576\n",
       "Name: Renovation, dtype: int64"
      ]
     },
     "execution_count": 78,
     "metadata": {},
     "output_type": "execute_result"
    }
   ],
   "source": [
    "# Renovation 特征分析\n",
    "df_copy[\"Renovation\"].value_counts()"
   ]
  },
  {
   "cell_type": "code",
   "execution_count": 79,
   "metadata": {},
   "outputs": [
    {
     "data": {
      "text/plain": [
       "精装    11345\n",
       "简装     8497\n",
       "其他     3239\n",
       "毛坯      576\n",
       "南北       20\n",
       "Name: Renovation, dtype: int64"
      ]
     },
     "execution_count": 79,
     "metadata": {},
     "output_type": "execute_result"
    }
   ],
   "source": [
    "lianjia_df[\"Renovation\"].value_counts()"
   ]
  },
  {
   "cell_type": "code",
   "execution_count": 80,
   "metadata": {},
   "outputs": [
    {
     "data": {
      "text/markdown": [
       "### Elevator 特征分析\n",
       "- **初探数据时，我们发现Elevator特征缺失严重，对于我们分析来说十分不利，假如关键性特征缺失对于模型来讲是灾难性的。故而一般有平均值/中位数填补法、直接移除或者根据其他特征预测等**\n",
       "- **观察缺失值数量**\n"
      ],
      "text/plain": [
       "<IPython.core.display.Markdown object>"
      ]
     },
     "metadata": {},
     "output_type": "display_data"
    }
   ],
   "source": [
    "%%markdown\n",
    "### Elevator 特征分析\n",
    "- **初探数据时，我们发现Elevator特征缺失严重，对于我们分析来说十分不利，假如关键性特征缺失对于模型来讲是灾难性的。故而一般有平均值/中位数填补法、直接移除或者根据其他特征预测等**\n",
    "- **观察缺失值数量**"
   ]
  },
  {
   "cell_type": "code",
   "execution_count": 81,
   "metadata": {},
   "outputs": [
    {
     "name": "stdout",
     "output_type": "stream",
     "text": [
      "Elevator 缺失值数量为： 8237\n"
     ]
    }
   ],
   "source": [
    "misn =  len(df_copy.loc[(df_copy[\"Elevator\"].isnull()),\"Elevator\"])\n",
    "print (\"Elevator 缺失值数量为：\",str(misn))"
   ]
  },
  {
   "cell_type": "code",
   "execution_count": 82,
   "metadata": {},
   "outputs": [
    {
     "data": {
      "text/markdown": [
       "\n",
       "- **在实际生活中，电梯与房价有很强的相关性，所以我们对数据进行填充**\n",
       "- **通过观察数据发现，\"Elevator\" 特征为字符串类型，不存在平均值和中位数，因此根据楼层Floor来判断是否有电梯，一般情况当楼层大于6时有电梯**\n"
      ],
      "text/plain": [
       "<IPython.core.display.Markdown object>"
      ]
     },
     "metadata": {},
     "output_type": "display_data"
    }
   ],
   "source": [
    "%%markdown\n",
    "\n",
    "- **在实际生活中，电梯与房价有很强的相关性，所以我们对数据进行填充**\n",
    "- **通过观察数据发现，\"Elevator\" 特征为字符串类型，不存在平均值和中位数，因此根据楼层Floor来判断是否有电梯，一般情况当楼层大于6时有电梯**"
   ]
  },
  {
   "cell_type": "code",
   "execution_count": 83,
   "metadata": {},
   "outputs": [],
   "source": [
    "df_copy[\"Elevator\"] = df_copy.loc[(df_copy[\"Elevator\"] == \"有电梯\")|(df_copy[\"Elevator\"] == \"无电梯\"),\"Elevator\"]"
   ]
  },
  {
   "cell_type": "code",
   "execution_count": 84,
   "metadata": {},
   "outputs": [],
   "source": [
    "# 填充缺失值\n",
    "df_copy.loc[(df_copy[\"Floor\"] > 6)&(df_copy[\"Elevator\"].isnull()),\"Elevator\"] = \"有电梯\"\n",
    "df_copy.loc[(df_copy[\"Floor\"] <= 6)&(df_copy[\"Elevator\"].isnull()),\"Elevator\"] = \"无电梯\""
   ]
  },
  {
   "cell_type": "code",
   "execution_count": 85,
   "metadata": {},
   "outputs": [
    {
     "data": {
      "image/png": "[encoded data removed]",
      "text/plain": [
       "<Figure size 1440x720 with 2 Axes>"
      ]
     },
     "metadata": {
      "needs_background": "light"
     },
     "output_type": "display_data"
    }
   ],
   "source": [
    "f,[ax1,ax2] = plt.subplots(1,2,figsize = (20,10))\n",
    "\n",
    "sns.countplot(df_copy[\"Elevator\"],ax=ax1)\n",
    "ax1.set_title(\"有无电梯数量对比\",fontsize=20)\n",
    "ax1.set_xlabel(\"是否有电梯\")\n",
    "ax1.set_ylabel(\"数量\")\n",
    "\n",
    "sns.barplot(x=\"Elevator\",y=\"Price\",data=df_copy,ax=ax2)\n",
    "ax2.set_title(\"有无电梯房价对比\",fontsize=20)\n",
    "ax2.set_xlabel(\"是否有电梯\")\n",
    "ax2.set_ylabel(\"总价\")\n",
    "plt.show()"
   ]
  },
  {
   "cell_type": "code",
   "execution_count": 86,
   "metadata": {},
   "outputs": [
    {
     "data": {
      "text/markdown": [
       "> 观察发现，有电梯二手房居多，符合目前市场对于资源的合理利用，相应的有电梯房价相对较高（售价包含电梯装修和后期维修等相关费用（公摊面积））\n"
      ],
      "text/plain": [
       "<IPython.core.display.Markdown object>"
      ]
     },
     "metadata": {},
     "output_type": "display_data"
    }
   ],
   "source": [
    "%%markdown \n",
    "> 观察发现，有电梯二手房居多，符合目前市场对于资源的合理利用，相应的有电梯房价相对较高（售价包含电梯装修和后期维修等相关费用（公摊面积））\n"
   ]
  },
  {
   "cell_type": "code",
   "execution_count": 87,
   "metadata": {},
   "outputs": [
    {
     "data": {
      "text/markdown": [
       "### Year 特征分析\n"
      ],
      "text/plain": [
       "<IPython.core.display.Markdown object>"
      ]
     },
     "metadata": {},
     "output_type": "display_data"
    }
   ],
   "source": [
    "%%markdown\n",
    "### Year 特征分析\n"
   ]
  },
  {
   "cell_type": "code",
   "execution_count": 88,
   "metadata": {},
   "outputs": [
    {
     "name": "stderr",
     "output_type": "stream",
     "text": [
      "D:\\sofeware\\Anaconda3\\envs\\vir-373\\lib\\site-packages\\seaborn\\axisgrid.py:243: UserWarning: The `size` parameter has been renamed to `height`; please update your code.\n",
      "  warnings.warn(msg, UserWarning)\n"
     ]
    },
    {
     "data": {
      "text/plain": [
       "<seaborn.axisgrid.FacetGrid at 0x20f85a860b8>"
      ]
     },
     "execution_count": 88,
     "metadata": {},
     "output_type": "execute_result"
    },
    {
     "data": {
      "image/png": "[encoded data removed]",
      "text/plain": [
       "<Figure size 1160x576 with 8 Axes>"
      ]
     },
     "metadata": {
      "needs_background": "light"
     },
     "output_type": "display_data"
    }
   ],
   "source": [
    "grid = sns.FacetGrid(df_copy,row=\"Elevator\",col=\"Renovation\",palette='seismic',size=4)\n",
    "grid.map(plt.scatter,\"Year\",\"Price\")\n",
    "grid.add_legend()"
   ]
  },
  {
   "cell_type": "code",
   "execution_count": 89,
   "metadata": {},
   "outputs": [
    {
     "data": {
      "text/markdown": [
       "> 在 Elevator 和 Renovation 分类条件下，使用FacGrid分析Year特征 观察结果如下：\n",
       "\n",
       "- 整个二手房房价趋势是随着时间增长的（也就是离购买时间越近房价越高）\n",
       "- 2000以后建造的二手房房价明显高于2000年以前的房价\n",
       "- 1980年以前几乎不存在有电梯的二手房，说明1980年前并未修建太多高楼层和普及电梯（符合当时的市场环境和发展情况）\n",
       "- 1980年之前二手房，简装占据大部分市场，也说明当时环境下商品房市场情况\n"
      ],
      "text/plain": [
       "<IPython.core.display.Markdown object>"
      ]
     },
     "metadata": {},
     "output_type": "display_data"
    }
   ],
   "source": [
    "%%markdown \n",
    "> 在 Elevator 和 Renovation 分类条件下，使用FacGrid分析Year特征 观察结果如下：\n",
    "\n",
    "- 整个二手房房价趋势是随着时间增长的（也就是离购买时间越近房价越高）\n",
    "- 2000以后建造的二手房房价明显高于2000年以前的房价\n",
    "- 1980年以前几乎不存在有电梯的二手房，说明1980年前并未修建太多高楼层和普及电梯（符合当时的市场环境和发展情况）\n",
    "- 1980年之前二手房，简装占据大部分市场，也说明当时环境下商品房市场情况"
   ]
  },
  {
   "cell_type": "code",
   "execution_count": 90,
   "metadata": {},
   "outputs": [
    {
     "data": {
      "text/markdown": [
       "### Floor 特征分析\n"
      ],
      "text/plain": [
       "<IPython.core.display.Markdown object>"
      ]
     },
     "metadata": {},
     "output_type": "display_data"
    }
   ],
   "source": [
    "%%markdown\n",
    "### Floor 特征分析\n"
   ]
  },
  {
   "cell_type": "code",
   "execution_count": 91,
   "metadata": {},
   "outputs": [
    {
     "data": {
      "image/png": "[encoded data removed]",
      "text/plain": [
       "<Figure size 1440x360 with 1 Axes>"
      ]
     },
     "metadata": {
      "needs_background": "light"
     },
     "output_type": "display_data"
    }
   ],
   "source": [
    "f,ax1 = plt.subplots(figsize=(20,5))\n",
    "\n",
    "sns.countplot(x = \"Floor\",data=df_copy,ax=ax1)\n",
    "ax1.set_title(\"房屋户型\",fontsize=20)\n",
    "ax1.set_xlabel(\"数量\")\n",
    "ax1.set_ylabel(\"户型\")\n",
    "plt.show()"
   ]
  },
  {
   "cell_type": "code",
   "execution_count": 92,
   "metadata": {},
   "outputs": [
    {
     "data": {
      "text/markdown": [
       "可以看到，6 层二手房数量最多，但是单独的楼层特征没有什么意义，因为每个小\n",
       "区住房的总楼层数都不一样，我们需要知道楼层的相对意义。另外，楼层与文化也\n",
       "有很重要联系，比如中国文化七上八下，七层可能受欢迎，房价也贵，而一般也不\n",
       "会有 4 层或 18 层。当然，正常情况下中间楼层是比较受欢迎的，价格也高，底层\n",
       "和顶层受欢迎度较低，价格也相对较低。所以楼层是一个非常复杂的特征，对房价\n",
       "影响也比较大。\n"
      ],
      "text/plain": [
       "<IPython.core.display.Markdown object>"
      ]
     },
     "metadata": {},
     "output_type": "display_data"
    }
   ],
   "source": [
    "%%markdown\n",
    "可以看到，6 层二手房数量最多，但是单独的楼层特征没有什么意义，因为每个小\n",
    "区住房的总楼层数都不一样，我们需要知道楼层的相对意义。另外，楼层与文化也\n",
    "有很重要联系，比如中国文化七上八下，七层可能受欢迎，房价也贵，而一般也不\n",
    "会有 4 层或 18 层。当然，正常情况下中间楼层是比较受欢迎的，价格也高，底层\n",
    "和顶层受欢迎度较低，价格也相对较低。所以楼层是一个非常复杂的特征，对房价\n",
    "影响也比较大。"
   ]
  },
  {
   "cell_type": "code",
   "execution_count": 93,
   "metadata": {},
   "outputs": [
    {
     "data": {
      "text/markdown": [
       "### 特征工程\n",
       "\n",
       "特征工程包括很多内容，有特征清洗、预处理、监控等，而预处理根据单一特征或多特征又分很多种方法，如归一化、降维、特征选择、特征筛选等。处理数据的好坏对模型的性能影响很大\n"
      ],
      "text/plain": [
       "<IPython.core.display.Markdown object>"
      ]
     },
     "metadata": {},
     "output_type": "display_data"
    }
   ],
   "source": [
    "%%markdown  \n",
    "### 特征工程\n",
    "\n",
    "特征工程包括很多内容，有特征清洗、预处理、监控等，而预处理根据单一特征或多特征又分很多种方法，如归一化、降维、特征选择、特征筛选等。处理数据的好坏对模型的性能影响很大"
   ]
  },
  {
   "cell_type": "code",
   "execution_count": 94,
   "metadata": {},
   "outputs": [
    {
     "name": "stderr",
     "output_type": "stream",
     "text": [
      "D:\\sofeware\\Anaconda3\\envs\\vir-373\\lib\\site-packages\\ipykernel_launcher.py:6: SettingWithCopyWarning: \n",
      "A value is trying to be set on a copy of a slice from a DataFrame.\n",
      "Try using .loc[row_indexer,col_indexer] = value instead\n",
      "\n",
      "See the caveats in the documentation: https://pandas.pydata.org/pandas-docs/stable/user_guide/indexing.html#returning-a-view-versus-a-copy\n",
      "  \n",
      "D:\\sofeware\\Anaconda3\\envs\\vir-373\\lib\\site-packages\\ipykernel_launcher.py:7: SettingWithCopyWarning: \n",
      "A value is trying to be set on a copy of a slice from a DataFrame.\n",
      "Try using .loc[row_indexer,col_indexer] = value instead\n",
      "\n",
      "See the caveats in the documentation: https://pandas.pydata.org/pandas-docs/stable/user_guide/indexing.html#returning-a-view-versus-a-copy\n",
      "  import sys\n",
      "D:\\sofeware\\Anaconda3\\envs\\vir-373\\lib\\site-packages\\ipykernel_launcher.py:10: SettingWithCopyWarning: \n",
      "A value is trying to be set on a copy of a slice from a DataFrame.\n",
      "Try using .loc[row_indexer,col_indexer] = value instead\n",
      "\n",
      "See the caveats in the documentation: https://pandas.pydata.org/pandas-docs/stable/user_guide/indexing.html#returning-a-view-versus-a-copy\n",
      "  # Remove the CWD from sys.path while we load stuff.\n"
     ]
    }
   ],
   "source": [
    "# 只考虑 “室” 和 “厅” 将其他少数“房间” 和 “卫” 移除\n",
    "\n",
    "df_copy = df_copy.loc[df_copy[\"Layout\"].str.extract('^\\d(.*?)\\d.*?',expand=False) == '室']\n",
    "\n",
    "# 提取“室” 和 “厅” 创建新特征\n",
    "df_copy[\"Layout_room_num\"] = df_copy[\"Layout\"].str.extract('(^\\d).*',expand=False).astype(\"int64\")\n",
    "df_copy[\"Layout_hall_num\"] = df_copy[\"Layout\"].str.extract('(^\\d).*',expand=False).astype(\"int64\")\n",
    "# 按中位数对“Year” 特征进行分箱\n",
    "\n",
    "df_copy[\"Year\"] = pd.qcut(df_copy[\"Year\"],8).astype(\"object\")\n"
   ]
  },
  {
   "cell_type": "code",
   "execution_count": 96,
   "metadata": {},
   "outputs": [
    {
     "data": {
      "text/html": [
       "<div>\n",
       "<style scoped>\n",
       "    .dataframe tbody tr th:only-of-type {\n",
       "        vertical-align: middle;\n",
       "    }\n",
       "\n",
       "    .dataframe tbody tr th {\n",
       "        vertical-align: top;\n",
       "    }\n",
       "\n",
       "    .dataframe thead th {\n",
       "        text-align: right;\n",
       "    }\n",
       "</style>\n",
       "<table border=\"1\" class=\"dataframe\">\n",
       "  <thead>\n",
       "    <tr style=\"text-align: right;\">\n",
       "      <th></th>\n",
       "      <th>Direction</th>\n",
       "      <th>District</th>\n",
       "      <th>Elevator</th>\n",
       "      <th>Floor</th>\n",
       "      <th>Garden</th>\n",
       "      <th>Id</th>\n",
       "      <th>Layout</th>\n",
       "      <th>Price</th>\n",
       "      <th>Region</th>\n",
       "      <th>Renovation</th>\n",
       "      <th>Size</th>\n",
       "      <th>Year</th>\n",
       "      <th>PerPrice</th>\n",
       "      <th>Layout_room_num</th>\n",
       "      <th>Layout_hall_num</th>\n",
       "    </tr>\n",
       "  </thead>\n",
       "  <tbody>\n",
       "    <tr>\n",
       "      <th>0</th>\n",
       "      <td>东西</td>\n",
       "      <td>灯市口</td>\n",
       "      <td>无电梯</td>\n",
       "      <td>6</td>\n",
       "      <td>锡拉胡同21号院</td>\n",
       "      <td>101102647043</td>\n",
       "      <td>3室1厅</td>\n",
       "      <td>780.0</td>\n",
       "      <td>东城</td>\n",
       "      <td>精装</td>\n",
       "      <td>75.0</td>\n",
       "      <td>(1949.999, 1990.0]</td>\n",
       "      <td>10.400000</td>\n",
       "      <td>3</td>\n",
       "      <td>3</td>\n",
       "    </tr>\n",
       "    <tr>\n",
       "      <th>1</th>\n",
       "      <td>南北</td>\n",
       "      <td>东单</td>\n",
       "      <td>无电梯</td>\n",
       "      <td>6</td>\n",
       "      <td>东华门大街</td>\n",
       "      <td>101102650978</td>\n",
       "      <td>2室1厅</td>\n",
       "      <td>705.0</td>\n",
       "      <td>东城</td>\n",
       "      <td>精装</td>\n",
       "      <td>60.0</td>\n",
       "      <td>(1949.999, 1990.0]</td>\n",
       "      <td>11.750000</td>\n",
       "      <td>2</td>\n",
       "      <td>2</td>\n",
       "    </tr>\n",
       "    <tr>\n",
       "      <th>2</th>\n",
       "      <td>南西</td>\n",
       "      <td>崇文门</td>\n",
       "      <td>有电梯</td>\n",
       "      <td>16</td>\n",
       "      <td>新世界中心</td>\n",
       "      <td>101102672743</td>\n",
       "      <td>3室1厅</td>\n",
       "      <td>1400.0</td>\n",
       "      <td>东城</td>\n",
       "      <td>其他</td>\n",
       "      <td>210.0</td>\n",
       "      <td>(1990.0, 1997.0]</td>\n",
       "      <td>6.666667</td>\n",
       "      <td>3</td>\n",
       "      <td>3</td>\n",
       "    </tr>\n",
       "    <tr>\n",
       "      <th>3</th>\n",
       "      <td>南</td>\n",
       "      <td>崇文门</td>\n",
       "      <td>有电梯</td>\n",
       "      <td>7</td>\n",
       "      <td>兴隆都市馨园</td>\n",
       "      <td>101102577410</td>\n",
       "      <td>1室1厅</td>\n",
       "      <td>420.0</td>\n",
       "      <td>东城</td>\n",
       "      <td>精装</td>\n",
       "      <td>39.0</td>\n",
       "      <td>(2003.0, 2004.0]</td>\n",
       "      <td>10.769231</td>\n",
       "      <td>1</td>\n",
       "      <td>1</td>\n",
       "    </tr>\n",
       "    <tr>\n",
       "      <th>4</th>\n",
       "      <td>南</td>\n",
       "      <td>陶然亭</td>\n",
       "      <td>有电梯</td>\n",
       "      <td>19</td>\n",
       "      <td>中海紫御公馆</td>\n",
       "      <td>101102574696</td>\n",
       "      <td>2室2厅</td>\n",
       "      <td>998.0</td>\n",
       "      <td>东城</td>\n",
       "      <td>精装</td>\n",
       "      <td>90.0</td>\n",
       "      <td>(2007.0, 2010.0]</td>\n",
       "      <td>11.088889</td>\n",
       "      <td>2</td>\n",
       "      <td>2</td>\n",
       "    </tr>\n",
       "  </tbody>\n",
       "</table>\n",
       "</div>"
      ],
      "text/plain": [
       "  Direction District Elevator  Floor    Garden            Id Layout   Price  \\\n",
       "0        东西      灯市口      无电梯      6  锡拉胡同21号院  101102647043   3室1厅   780.0   \n",
       "1        南北       东单      无电梯      6     东华门大街  101102650978   2室1厅   705.0   \n",
       "2        南西      崇文门      有电梯     16     新世界中心  101102672743   3室1厅  1400.0   \n",
       "3         南      崇文门      有电梯      7    兴隆都市馨园  101102577410   1室1厅   420.0   \n",
       "4         南      陶然亭      有电梯     19    中海紫御公馆  101102574696   2室2厅   998.0   \n",
       "\n",
       "  Region Renovation   Size                Year   PerPrice  Layout_room_num  \\\n",
       "0     东城         精装   75.0  (1949.999, 1990.0]  10.400000                3   \n",
       "1     东城         精装   60.0  (1949.999, 1990.0]  11.750000                2   \n",
       "2     东城         其他  210.0    (1990.0, 1997.0]   6.666667                3   \n",
       "3     东城         精装   39.0    (2003.0, 2004.0]  10.769231                1   \n",
       "4     东城         精装   90.0    (2007.0, 2010.0]  11.088889                2   \n",
       "\n",
       "   Layout_hall_num  \n",
       "0                3  \n",
       "1                2  \n",
       "2                3  \n",
       "3                1  \n",
       "4                2  "
      ]
     },
     "execution_count": 96,
     "metadata": {},
     "output_type": "execute_result"
    }
   ],
   "source": [
    "df_copy = df_copy.loc[(df_copy[\"Direction\"] != 'no')&(df_copy[\"Direction\"]!='nan')]\n",
    "df_copy.head()"
   ]
  },
  {
   "cell_type": "code",
   "execution_count": 97,
   "metadata": {
    "scrolled": true
   },
   "outputs": [],
   "source": [
    "df_copy[\"Layout_total_num\"] = df_copy[\"Layout_room_num\"] + df_copy[\"Layout_hall_num\"]\n",
    "df_copy[\"Size_room_ratio\"] = df_copy[\"Size\"] / df_copy[\"Layout_total_num\"]\n",
    "df_copy = df_copy.drop([\"Layout\",\"PerPrice\",\"Garden\"],axis=1)\n"
   ]
  },
  {
   "cell_type": "code",
   "execution_count": 98,
   "metadata": {},
   "outputs": [
    {
     "data": {
      "text/html": [
       "<div>\n",
       "<style scoped>\n",
       "    .dataframe tbody tr th:only-of-type {\n",
       "        vertical-align: middle;\n",
       "    }\n",
       "\n",
       "    .dataframe tbody tr th {\n",
       "        vertical-align: top;\n",
       "    }\n",
       "\n",
       "    .dataframe thead th {\n",
       "        text-align: right;\n",
       "    }\n",
       "</style>\n",
       "<table border=\"1\" class=\"dataframe\">\n",
       "  <thead>\n",
       "    <tr style=\"text-align: right;\">\n",
       "      <th></th>\n",
       "      <th>Direction</th>\n",
       "      <th>District</th>\n",
       "      <th>Elevator</th>\n",
       "      <th>Floor</th>\n",
       "      <th>Id</th>\n",
       "      <th>Price</th>\n",
       "      <th>Region</th>\n",
       "      <th>Renovation</th>\n",
       "      <th>Size</th>\n",
       "      <th>Year</th>\n",
       "      <th>Layout_room_num</th>\n",
       "      <th>Layout_hall_num</th>\n",
       "      <th>Layout_total_num</th>\n",
       "      <th>Size_room_ratio</th>\n",
       "    </tr>\n",
       "  </thead>\n",
       "  <tbody>\n",
       "    <tr>\n",
       "      <th>0</th>\n",
       "      <td>东西</td>\n",
       "      <td>灯市口</td>\n",
       "      <td>无电梯</td>\n",
       "      <td>6</td>\n",
       "      <td>101102647043</td>\n",
       "      <td>780.0</td>\n",
       "      <td>东城</td>\n",
       "      <td>精装</td>\n",
       "      <td>75.0</td>\n",
       "      <td>(1949.999, 1990.0]</td>\n",
       "      <td>3</td>\n",
       "      <td>3</td>\n",
       "      <td>6</td>\n",
       "      <td>12.5</td>\n",
       "    </tr>\n",
       "    <tr>\n",
       "      <th>1</th>\n",
       "      <td>南北</td>\n",
       "      <td>东单</td>\n",
       "      <td>无电梯</td>\n",
       "      <td>6</td>\n",
       "      <td>101102650978</td>\n",
       "      <td>705.0</td>\n",
       "      <td>东城</td>\n",
       "      <td>精装</td>\n",
       "      <td>60.0</td>\n",
       "      <td>(1949.999, 1990.0]</td>\n",
       "      <td>2</td>\n",
       "      <td>2</td>\n",
       "      <td>4</td>\n",
       "      <td>15.0</td>\n",
       "    </tr>\n",
       "    <tr>\n",
       "      <th>2</th>\n",
       "      <td>南西</td>\n",
       "      <td>崇文门</td>\n",
       "      <td>有电梯</td>\n",
       "      <td>16</td>\n",
       "      <td>101102672743</td>\n",
       "      <td>1400.0</td>\n",
       "      <td>东城</td>\n",
       "      <td>其他</td>\n",
       "      <td>210.0</td>\n",
       "      <td>(1990.0, 1997.0]</td>\n",
       "      <td>3</td>\n",
       "      <td>3</td>\n",
       "      <td>6</td>\n",
       "      <td>35.0</td>\n",
       "    </tr>\n",
       "    <tr>\n",
       "      <th>3</th>\n",
       "      <td>南</td>\n",
       "      <td>崇文门</td>\n",
       "      <td>有电梯</td>\n",
       "      <td>7</td>\n",
       "      <td>101102577410</td>\n",
       "      <td>420.0</td>\n",
       "      <td>东城</td>\n",
       "      <td>精装</td>\n",
       "      <td>39.0</td>\n",
       "      <td>(2003.0, 2004.0]</td>\n",
       "      <td>1</td>\n",
       "      <td>1</td>\n",
       "      <td>2</td>\n",
       "      <td>19.5</td>\n",
       "    </tr>\n",
       "    <tr>\n",
       "      <th>4</th>\n",
       "      <td>南</td>\n",
       "      <td>陶然亭</td>\n",
       "      <td>有电梯</td>\n",
       "      <td>19</td>\n",
       "      <td>101102574696</td>\n",
       "      <td>998.0</td>\n",
       "      <td>东城</td>\n",
       "      <td>精装</td>\n",
       "      <td>90.0</td>\n",
       "      <td>(2007.0, 2010.0]</td>\n",
       "      <td>2</td>\n",
       "      <td>2</td>\n",
       "      <td>4</td>\n",
       "      <td>22.5</td>\n",
       "    </tr>\n",
       "  </tbody>\n",
       "</table>\n",
       "</div>"
      ],
      "text/plain": [
       "  Direction District Elevator  Floor            Id   Price Region Renovation  \\\n",
       "0        东西      灯市口      无电梯      6  101102647043   780.0     东城         精装   \n",
       "1        南北       东单      无电梯      6  101102650978   705.0     东城         精装   \n",
       "2        南西      崇文门      有电梯     16  101102672743  1400.0     东城         其他   \n",
       "3         南      崇文门      有电梯      7  101102577410   420.0     东城         精装   \n",
       "4         南      陶然亭      有电梯     19  101102574696   998.0     东城         精装   \n",
       "\n",
       "    Size                Year  Layout_room_num  Layout_hall_num  \\\n",
       "0   75.0  (1949.999, 1990.0]                3                3   \n",
       "1   60.0  (1949.999, 1990.0]                2                2   \n",
       "2  210.0    (1990.0, 1997.0]                3                3   \n",
       "3   39.0    (2003.0, 2004.0]                1                1   \n",
       "4   90.0    (2007.0, 2010.0]                2                2   \n",
       "\n",
       "   Layout_total_num  Size_room_ratio  \n",
       "0                 6             12.5  \n",
       "1                 4             15.0  \n",
       "2                 6             35.0  \n",
       "3                 2             19.5  \n",
       "4                 4             22.5  "
      ]
     },
     "execution_count": 98,
     "metadata": {},
     "output_type": "execute_result"
    }
   ],
   "source": [
    "df_copy.head()"
   ]
  },
  {
   "cell_type": "code",
   "execution_count": 99,
   "metadata": {
    "scrolled": false
   },
   "outputs": [
    {
     "data": {
      "text/markdown": [
       "### 数据建模预测\n",
       "-  使用 Cart 决策树的回归模型对二手房房价进行分析预测\n",
       "-  使用交叉验证方法充分利用数据集进行训练，避免数据划分不均匀的影响。\n",
       "-  使用 GridSearchCV 方法优化模型参数\n",
       "-  使用 R2 评分方法对模型预测评分\n"
      ],
      "text/plain": [
       "<IPython.core.display.Markdown object>"
      ]
     },
     "metadata": {},
     "output_type": "display_data"
    }
   ],
   "source": [
    "%%markdown \n",
    "### 数据建模预测\n",
    "-  使用 Cart 决策树的回归模型对二手房房价进行分析预测\n",
    "-  使用交叉验证方法充分利用数据集进行训练，避免数据划分不均匀的影响。\n",
    "-  使用 GridSearchCV 方法优化模型参数\n",
    "-  使用 R2 评分方法对模型预测评分"
   ]
  },
  {
   "cell_type": "code",
   "execution_count": 144,
   "metadata": {},
   "outputs": [],
   "source": [
    "import numpy as np\n",
    "from sklearn import preprocessing\n",
    "from sklearn.model_selection import train_test_split\n",
    "\n",
    "\"\"\"\n",
    "将以上数据划分为训练集和测试集，训练集用于建立模型，测试集用于测试模型预\n",
    "测准确率。使用 sklearn 的 model_selection 实现以上划分功能。\n",
    "\"\"\"\n",
    "train = df_copy.drop([\"Price\",\"Id\"],axis=1)\n",
    "\n",
    "#  归一化处理 0.79 \n",
    "# train_norm = preprocessing.normalize(train, norm='l2', axis=1)  # 直接用标准化函数\n",
    "# normalizer = preprocessing.Normalizer()  # 也可以用标准化类，然后调用方法\n",
    "# train_norm = normalizer.fit_transform(train)\n",
    "\n",
    "\n",
    "# 0-1标准化 0.81\n",
    "X_train_minmax = preprocessing.minmax_scale(train, feature_range=(0, 1), axis=0, copy=True)  # 直接用标准化函数\n",
    "min_max_scaler = preprocessing.MinMaxScaler()  # 也可以用标准化类，然后调用方法\n",
    "train_norm = min_max_scaler.fit_transform(train)\n",
    " \n",
    "# # z-score标准化  0.78\n",
    "# X_train_zs = preprocessing.scale(train,axis=0, with_mean=True, with_std=True, copy=True)  # 直接用标准化函数\n",
    "# zs_scaler = preprocessing.StandardScaler()  # 也可以用标准化类，然后调用方法\n",
    "# train_norm = zs_scaler.fit_transform(train)\n",
    "\n",
    "X_train,X_test,y_train,y_test = train_test_split(np.array(train_norm),np.array(df_copy[\"Price\"]),test_size=0.2)\n"
   ]
  },
  {
   "cell_type": "code",
   "execution_count": 139,
   "metadata": {},
   "outputs": [],
   "source": [
    "# 创建模型\n",
    "from  sklearn.model_selection import KFold\n",
    "from  sklearn.tree import DecisionTreeRegressor\n",
    "from  sklearn.metrics import make_scorer\n",
    "from  sklearn.model_selection import GridSearchCV\n",
    "from  sklearn.metrics import r2_score\n"
   ]
  },
  {
   "cell_type": "code",
   "execution_count": 140,
   "metadata": {},
   "outputs": [],
   "source": [
    "def fit_model(X,y):\n",
    "    cross_vaildator = KFold(10,shuffle=True)\n",
    "    regressor  = DecisionTreeRegressor()\n",
    "    \n",
    "    params = {'max_depth':[1,2,3,4,6,5,7,9,10]}\n",
    "    scoring_fnc = make_scorer(performance_metric)\n",
    "    # 基于X，y进行网格搜索\n",
    "    grid = GridSearchCV(estimator=regressor,param_grid=params,scoring=scoring_fnc,cv = cross_vaildator)\n",
    "    grid.fit(X,y)\n",
    "    return grid.best_estimator_\n",
    "\n",
    "def performance_metric(y_ture,y_pred):\n",
    "    return r2_score(y_ture,y_pred)\n"
   ]
  },
  {
   "cell_type": "code",
   "execution_count": 145,
   "metadata": {},
   "outputs": [
    {
     "name": "stdout",
     "output_type": "stream",
     "text": [
      "最理想模型的参数 'max_depth' 是 10 。\n",
      "最优模型在测试数据上 R^2 分数 0.83。\n"
     ]
    }
   ],
   "source": [
    "# # 分析模型\n",
    "# vs.ModelLearning(X_train, y_trian)\n",
    "# vs.ModelComplexity(features_train, prices_train)\n",
    "optimal_reg1 = fit_model(X_train, y_train)\n",
    "# 输出最优模型的 'max_depth' 参数\n",
    "print(\"最理想模型的参数 'max_depth' 是 {} 。\".format(optimal_reg1.get_params()['max_depth']))\n",
    "# 由于决策树容易过拟合的问题，我们这里采取观察学习曲线的方法查看决策树深\n",
    "# 度，并判断模型是否出现了过拟合现象。以下是观察到的学习曲线图形：\n",
    "predicted_value = optimal_reg1.predict(X_test)\n",
    "r2 = performance_metric(y_test, predicted_value)\n",
    "print(\"最优模型在测试数据上 R^2 分数 {:,.2f}。\".format(r2))"
   ]
  },
  {
   "cell_type": "code",
   "execution_count": 142,
   "metadata": {},
   "outputs": [
    {
     "name": "stderr",
     "output_type": "stream",
     "text": [
      "D:\\sofeware\\Anaconda3\\envs\\vir-373\\lib\\site-packages\\sklearn\\linear_model\\_logistic.py:764: ConvergenceWarning: lbfgs failed to converge (status=1):\n",
      "STOP: TOTAL NO. of ITERATIONS REACHED LIMIT.\n",
      "\n",
      "Increase the number of iterations (max_iter) or scale the data as shown in:\n",
      "    https://scikit-learn.org/stable/modules/preprocessing.html\n",
      "Please also refer to the documentation for alternative solver options:\n",
      "    https://scikit-learn.org/stable/modules/linear_model.html#logistic-regression\n",
      "  extra_warning_msg=_LOGISTIC_SOLVER_CONVERGENCE_MSG)\n"
     ]
    },
    {
     "name": "stdout",
     "output_type": "stream",
     "text": [
      "最优模型在测试数据上 R^2 分数 0.51。\n"
     ]
    }
   ],
   "source": [
    "from  sklearn.linear_model import  LogisticRegression\n",
    "from  sklearn.metrics import accuracy_score,precision_score,f1_score,recall_score\n",
    " \n",
    "# 亚编码操作 onehotencoder 0.68\n",
    "encoder = preprocessing.OneHotEncoder()\n",
    "train_norm = encoder.fit_transform(train)  #\n",
    "train_norm = pd.DataFrame(train_norm.toarray())\n",
    "# print(df.head(5))\n",
    "\n",
    "\n",
    "X_train,X_test,y_train,y_test = train_test_split(np.array(train_norm),np.array(df_copy[\"Price\"]),test_size=0.2)\n",
    "\n",
    "logist = LogisticRegression()\n",
    "logist.fit(X_train,y_train.astype('int'))\n",
    "y_pred = logist.predict(X_test)\n",
    "r2 = performance_metric(y_test, y_pred)\n",
    "\n",
    "print (\"最优模型在测试数据上 R^2 分数 {:,.2f}。\".format(r2))"
   ]
  },
  {
   "cell_type": "code",
   "execution_count": null,
   "metadata": {},
   "outputs": [],
   "source": []
  },
  {
   "cell_type": "code",
   "execution_count": null,
   "metadata": {},
   "outputs": [],
   "source": []
  }
 ],
 "metadata": {
  "kernelspec": {
   "display_name": "Python [conda env:vir-373] *",
   "language": "python",
   "name": "conda-env-vir-373-py"
  },
  "language_info": {
   "codemirror_mode": {
    "name": "ipython",
    "version": 3
   },
   "file_extension": ".py",
   "mimetype": "text/x-python",
   "name": "python",
   "nbconvert_exporter": "python",
   "pygments_lexer": "ipython3",
   "version": "3.7.3"
  }
 },
 "nbformat": 4,
 "nbformat_minor": 4
}
