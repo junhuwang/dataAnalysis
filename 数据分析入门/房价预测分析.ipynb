{
 "cells": [
  {
   "cell_type": "code",
   "execution_count": null,
   "metadata": {},
   "outputs": [],
   "source": [
    "import pandas as pd\n",
    "import numpy as np\n",
    "import seaborn as sns\n",
    "import matplotlib as mpl\n",
    "import matplotlib.pyplot as plt \n",
    "\n",
    "from IPython.display import display\n",
    "plt.style.use('fivethirtyeight')\n",
    "sns.set_style({'font.sans-serif':['simhei','Arial']})\n",
    "%matplotlib inline\n"
   ]
  },
  {
   "cell_type": "code",
   "execution_count": null,
   "metadata": {},
   "outputs": [],
   "source": [
    "%%markdown \n",
    "\n",
    "### 数据初探 \n",
    "- 了解数据特征的缺失值、异常值以及大概的描述性统计\n"
   ]
  },
  {
   "cell_type": "code",
   "execution_count": null,
   "metadata": {},
   "outputs": [],
   "source": [
    "lianjia_df = pd.read_csv(\"lianjia.csv\")\n",
    "display(lianjia_df.head())"
   ]
  },
  {
   "cell_type": "code",
   "execution_count": null,
   "metadata": {},
   "outputs": [],
   "source": [
    "%%markdown \n",
    "- 初步了解数据共有`11`个特征变量，`price`是目标变量（Y），"
   ]
  },
  {
   "cell_type": "code",
   "execution_count": null,
   "metadata": {},
   "outputs": [],
   "source": [
    "lianjia_df.info()"
   ]
  },
  {
   "cell_type": "code",
   "execution_count": null,
   "metadata": {},
   "outputs": [],
   "source": [
    "lianjia_df.describe()"
   ]
  },
  {
   "cell_type": "code",
   "execution_count": null,
   "metadata": {},
   "outputs": [],
   "source": [
    "%%markdown\n",
    "**`以上描述性分析发现数据集具有以下特质`**\n",
    "- 发现数据集共有23677 Elevator特征有明显缺失\n",
    "- Size 特征有可能存在异常值（异常值对模型性能影响较大 需要特别关注）"
   ]
  },
  {
   "cell_type": "code",
   "execution_count": null,
   "metadata": {},
   "outputs": [],
   "source": [
    "%%markdown\n",
    "### 数据可视化分析"
   ]
  },
  {
   "cell_type": "code",
   "execution_count": null,
   "metadata": {},
   "outputs": [],
   "source": [
    "df_copy = lianjia_df.copy()\n",
    "df_copy['PerPrice'] = lianjia_df['Price']/lianjia_df['Size']\n",
    "df_copy['PerPrice'].head()"
   ]
  },
  {
   "cell_type": "code",
   "execution_count": null,
   "metadata": {},
   "outputs": [],
   "source": [
    "# Region 分析\n",
    "\n",
    "df_house_count = df_copy.groupby('Region')['Price'].count().sort_values(ascending=False).to_frame().reset_index()\n",
    "df_house_mean  = df_copy.groupby('Region')['PerPrice'].mean().sort_values(ascending=False).to_frame().reset_index()\n"
   ]
  },
  {
   "cell_type": "code",
   "execution_count": null,
   "metadata": {},
   "outputs": [],
   "source": [
    "f,[ax1,ax2,ax3] = plt.subplots(3,1,figsize=(20,15))\n",
    "sns.barplot(x = 'Region',y='PerPrice',palette='Blues_d',data=df_house_mean,ax=ax1)\n",
    "ax1.set_title(\"北京各大区二手房每平米单价对比\",fontsize=15)\n",
    "ax1.set_xlabel('区域')\n",
    "ax1.set_ylabel('每平米单价')\n",
    "\n",
    "\n",
    "sns.barplot(x = 'Region',y='Price',palette='Greens_d',data=df_house_count,ax=ax2)\n",
    "ax2.set_title(\"北京各大区二手房数量对比\",fontsize=15)\n",
    "ax2.set_xlabel('区域')\n",
    "ax2.set_ylabel('数量')\n",
    "\n",
    "\n",
    "sns.boxplot(x = 'Region',y='Price',data=df_copy,ax=ax3)\n",
    "ax3.set_title(\"北京各大区二手房总价\",fontsize=15)\n",
    "ax3.set_xlabel('区域')\n",
    "ax3.set_ylabel('房屋总价')\n",
    "plt.show()"
   ]
  },
  {
   "cell_type": "code",
   "execution_count": null,
   "metadata": {},
   "outputs": [],
   "source": [
    "%%markdown\n",
    "可以观察到：\n",
    "- **二手房房均价：** 西城区房价最高大约为11万，因为西城区在二环以里，并且也是热门学区房的聚集地，其次是东城区大约为10万/平米，然后是海淀区大约为8.5万每平米\n",
    "\n",
    "- **二手房数量：** 单从数量统计上来看，目前海淀、朝阳、丰台为二手房市场较为火热区域，差不多接近3000套\n",
    "- **二手房总价：** 通过箱线图发现，各区房价中位数集中在1000万以下，且离散值较高，说明房屋价格特征不是理想的正态分布"
   ]
  },
  {
   "cell_type": "code",
   "execution_count": null,
   "metadata": {},
   "outputs": [],
   "source": [
    "# Size 分析\n",
    "f,[ax1,ax2] = plt.subplots(1,2,figsize=(15,5))\n",
    "sns.distplot(df_copy[\"Size\"],bins=20,ax=ax1,color='r')\n",
    "sns.kdeplot(df_copy[\"Size\"],shade=True,ax=ax1)\n",
    "sns.regplot(x='Size',y=\"Price\",data=df_copy,ax=ax2)\n",
    "plt.show()\n"
   ]
  },
  {
   "cell_type": "code",
   "execution_count": null,
   "metadata": {},
   "outputs": [],
   "source": [
    "%%markdown\n",
    "> 通过distplot 和 kdeplot绘制柱状图观察Size特征分布情况，属于长尾类型分布，这说明有很多面积很大且超出正常范围的二手房\n",
    "> 通过regplot 绘制Size 和 Price之间散点图，发现Size特征基本和Price呈线性关系，符合基本常识，面积越大 价格越高。但是有明显异常点存在\n",
    ">   - 面积不足10平米，但是价格超出10000万\n",
    ">   - 面积超过1000平米，但是价格很低\n",
    "> 需要进一步分析"
   ]
  },
  {
   "cell_type": "code",
   "execution_count": null,
   "metadata": {},
   "outputs": [],
   "source": [
    "df_copy[df_copy[\"Size\"]<10]"
   ]
  },
  {
   "cell_type": "code",
   "execution_count": null,
   "metadata": {},
   "outputs": [],
   "source": [
    "df_copy[df_copy[\"Size\"]>1000]"
   ]
  },
  {
   "cell_type": "code",
   "execution_count": null,
   "metadata": {},
   "outputs": [],
   "source": [
    "%%markdown\n",
    "> 检查发现，这组数据为别墅，出现异常原因是由于别墅构造比较特殊（无朝向、无电梯）应该是该类型数据获取时出现的问题，且该类型不在解决问题范围可以考虑移除\n",
    "> 大于1000平米数据异常有可能属于商业用房，已租赁为主，故选择删除"
   ]
  },
  {
   "cell_type": "code",
   "execution_count": null,
   "metadata": {},
   "outputs": [],
   "source": [
    "df_copy = df_copy[(df_copy[\"Layout\"]!=\"叠拼别墅\") & (df_copy[\"Size\"] < 1000)]\n",
    "# Size 分析\n",
    "f,[ax1,ax2] = plt.subplots(1,2,figsize=(15,5))\n",
    "sns.distplot(df_copy[\"Size\"],bins=20,ax=ax1,color='r')\n",
    "sns.kdeplot(df_copy[\"Size\"],shade=True,ax=ax1)\n",
    "sns.regplot(x='Size',y=\"Price\",data=df_copy,ax=ax2)\n",
    "plt.show()\n"
   ]
  },
  {
   "cell_type": "code",
   "execution_count": null,
   "metadata": {},
   "outputs": [],
   "source": [
    "# Renovation 特征分析\n",
    "df_copy[\"Renovation\"].value_counts()"
   ]
  },
  {
   "cell_type": "code",
   "execution_count": null,
   "metadata": {},
   "outputs": [],
   "source": [
    "lianjia_df[\"Renovation\"].value_counts()"
   ]
  },
  {
   "cell_type": "code",
   "execution_count": null,
   "metadata": {},
   "outputs": [],
   "source": [
    "%%markdown\n",
    "### Elevator 特征分析\n",
    "- **初探数据时，我们发现Elevator特征缺失严重，对于我们分析来说十分不利，假如关键性特征缺失对于模型来讲是灾难性的。故而一般有平均值/中位数填补法、直接移除或者根据其他特征预测等**\n",
    "- **观察缺失值数量**"
   ]
  },
  {
   "cell_type": "code",
   "execution_count": null,
   "metadata": {},
   "outputs": [],
   "source": [
    "misn =  len(df_copy.loc[(df_copy[\"Elevator\"].isnull()),\"Elevator\"])\n",
    "print (\"Elevator 缺失值数量为：\",str(misn))"
   ]
  },
  {
   "cell_type": "code",
   "execution_count": null,
   "metadata": {},
   "outputs": [],
   "source": [
    "%%markdown\n",
    "\n",
    "- **在实际生活中，电梯与房价有很强的相关性，所以我们对数据进行填充**\n",
    "- **通过观察数据发现，\"Elevator\" 特征为字符串类型，不存在平均值和中位数，因此根据楼层Floor来判断是否有电梯，一般情况当楼层大于6时有电梯**"
   ]
  },
  {
   "cell_type": "code",
   "execution_count": null,
   "metadata": {},
   "outputs": [],
   "source": [
    "df_copy[\"Elevator\"] = df_copy.loc[(df_copy[\"Elevator\"] == \"有电梯\")|(df_copy[\"Elevator\"] == \"无电梯\"),\"Elevator\"]"
   ]
  },
  {
   "cell_type": "code",
   "execution_count": null,
   "metadata": {},
   "outputs": [],
   "source": [
    "# 填充缺失值\n",
    "df_copy.loc[(df_copy[\"Floor\"] > 6)&(df_copy[\"Elevator\"].isnull()),\"Elevator\"] = \"有电梯\"\n",
    "df_copy.loc[(df_copy[\"Floor\"] <= 6)&(df_copy[\"Elevator\"].isnull()),\"Elevator\"] = \"无电梯\""
   ]
  },
  {
   "cell_type": "code",
   "execution_count": null,
   "metadata": {},
   "outputs": [],
   "source": [
    "f,[ax1,ax2] = plt.subplots(1,2,figsize = (20,10))\n",
    "\n",
    "sns.countplot(df_copy[\"Elevator\"],ax=ax1)\n",
    "ax1.set_title(\"有无电梯数量对比\",fontsize=20)\n",
    "ax1.set_xlabel(\"是否有电梯\")\n",
    "ax1.set_ylabel(\"数量\")\n",
    "\n",
    "sns.barplot(x=\"Elevator\",y=\"Price\",data=df_copy,ax=ax2)\n",
    "ax2.set_title(\"有无电梯房价对比\",fontsize=20)\n",
    "ax2.set_xlabel(\"是否有电梯\")\n",
    "ax2.set_ylabel(\"总价\")\n",
    "plt.show()"
   ]
  },
  {
   "cell_type": "code",
   "execution_count": null,
   "metadata": {},
   "outputs": [],
   "source": [
    "%%markdown \n",
    "> 观察发现，有电梯二手房居多，符合目前市场对于资源的合理利用，相应的有电梯房价相对较高（售价包含电梯装修和后期维修等相关费用（公摊面积））\n"
   ]
  },
  {
   "cell_type": "code",
   "execution_count": null,
   "metadata": {},
   "outputs": [],
   "source": [
    "%%markdown\n",
    "### Year 特征分析\n"
   ]
  },
  {
   "cell_type": "code",
   "execution_count": null,
   "metadata": {},
   "outputs": [],
   "source": [
    "grid = sns.FacetGrid(df_copy,row=\"Elevator\",col=\"Renovation\",palette='seismic',size=4)\n",
    "grid.map(plt.scatter,\"Year\",\"Price\")\n",
    "grid.add_legend()"
   ]
  },
  {
   "cell_type": "code",
   "execution_count": null,
   "metadata": {},
   "outputs": [],
   "source": [
    "%%markdown \n",
    "> 在 Elevator 和 Renovation 分类条件下，使用FacGrid分析Year特征 观察结果如下：\n",
    "\n",
    "- 整个二手房房价趋势是随着时间增长的（也就是离购买时间越近房价越高）\n",
    "- 2000以后建造的二手房房价明显高于2000年以前的房价\n",
    "- 1980年以前几乎不存在有电梯的二手房，说明1980年前并未修建太多高楼层和普及电梯（符合当时的市场环境和发展情况）\n",
    "- 1980年之前二手房，简装占据大部分市场，也说明当时环境下商品房市场情况"
   ]
  },
  {
   "cell_type": "code",
   "execution_count": null,
   "metadata": {},
   "outputs": [],
   "source": [
    "%%markdown\n",
    "### Floor 特征分析\n"
   ]
  },
  {
   "cell_type": "code",
   "execution_count": null,
   "metadata": {},
   "outputs": [],
   "source": [
    "f,ax1 = plt.subplots(figsize=(20,5))\n",
    "\n",
    "sns.countplot(x = \"Floor\",data=df_copy,ax=ax1)\n",
    "ax1.set_title(\"房屋户型\",fontsize=20)\n",
    "ax1.set_xlabel(\"数量\")\n",
    "ax1.set_ylabel(\"户型\")\n",
    "plt.show()"
   ]
  },
  {
   "cell_type": "code",
   "execution_count": null,
   "metadata": {},
   "outputs": [],
   "source": [
    "%%markdown\n",
    "可以看到，6 层二手房数量最多，但是单独的楼层特征没有什么意义，因为每个小\n",
    "区住房的总楼层数都不一样，我们需要知道楼层的相对意义。另外，楼层与文化也\n",
    "有很重要联系，比如中国文化七上八下，七层可能受欢迎，房价也贵，而一般也不\n",
    "会有 4 层或 18 层。当然，正常情况下中间楼层是比较受欢迎的，价格也高，底层\n",
    "和顶层受欢迎度较低，价格也相对较低。所以楼层是一个非常复杂的特征，对房价\n",
    "影响也比较大。"
   ]
  },
  {
   "cell_type": "code",
   "execution_count": null,
   "metadata": {},
   "outputs": [],
   "source": [
    "%%markdown  \n",
    "### 特征工程\n",
    "\n",
    "特征工程包括很多内容，有特征清洗、预处理、监控等，而预处理根据单一特征或多特征又分很多种方法，如归一化、降维、特征选择、特征筛选等。处理数据的好坏对模型的性能影响很大"
   ]
  },
  {
   "cell_type": "code",
   "execution_count": null,
   "metadata": {},
   "outputs": [],
   "source": [
    "# 只考虑 “室” 和 “厅” 将其他少数“房间” 和 “卫” 移除\n",
    "\n",
    "df_copy = df_copy.loc[df_copy[\"Layout\"].str.extract('^\\d(.*?)\\d.*?',expand=False) == '室']\n",
    "\n",
    "# 提取“室” 和 “厅” 创建新特征\n",
    "df_copy[\"Layout_room_num\"] = df_copy[\"Layout\"].str.extract('(^\\d).*',expand=False).astype(\"int64\")\n",
    "df_copy[\"Layout_hall_num\"] = df_copy[\"Layout\"].str.extract('(^\\d).*',expand=False).astype(\"int64\")\n",
    "# 按中位数对“Year” 特征进行分箱\n",
    "\n",
    "df_copy[\"Year\"] = pd.qcut(df_copy[\"Year\"],8).astype(\"object\")\n"
   ]
  },
  {
   "cell_type": "code",
   "execution_count": null,
   "metadata": {},
   "outputs": [],
   "source": [
    "df_copy = df_copy.loc[(df_copy[\"Direction\"] != 'no')&(df_copy[\"Direction\"]!='nan')]\n",
    "\n"
   ]
  },
  {
   "cell_type": "code",
   "execution_count": null,
   "metadata": {
    "scrolled": true
   },
   "outputs": [],
   "source": [
    "df_copy[\"Layout_total_num\"] = df_copy[\"Layout_room_num\"] + df_copy[\"Layout_hall_num\"]\n",
    "df_copy[\"Size_room_ratio\"] = df_copy[\"Size\"] / df_copy[\"Layout_total_num\"]\n",
    "df_copy = df_copy.drop([\"Layout\",\"PerPrice\",\"Garden\"],axis=1)\n"
   ]
  },
  {
   "cell_type": "code",
   "execution_count": null,
   "metadata": {},
   "outputs": [],
   "source": [
    "df_copy.head()"
   ]
  },
  {
   "cell_type": "code",
   "execution_count": null,
   "metadata": {
    "scrolled": false
   },
   "outputs": [],
   "source": [
    "%%markdown \n",
    "### 数据建模预测\n",
    "-  使用 Cart 决策树的回归模型对二手房房价进行分析预测\n",
    "-  使用交叉验证方法充分利用数据集进行训练，避免数据划分不均匀的影响。\n",
    "-  使用 GridSearchCV 方法优化模型参数\n",
    "-  使用 R2 评分方法对模型预测评分"
   ]
  },
  {
   "cell_type": "code",
   "execution_count": null,
   "metadata": {},
   "outputs": [],
   "source": [
    "\n",
    "from sklearn import preprocessing\n",
    "le = preprocessing.LabelEncoder()\n",
    "ohe = preprocessing.OneHotEncoder()  \n",
    "train = pd.DataFrame()\n",
    "object_col = ['Direction', 'District', 'Elevator', 'Region',\n",
    "       'Renovation', 'Size', 'Year', 'Layout_room_num', 'Layout_hall_num',\n",
    "       'Layout_total_num', 'Size_room_ratio']"
   ]
  },
  {
   "cell_type": "code",
   "execution_count": null,
   "metadata": {
    "scrolled": true
   },
   "outputs": [],
   "source": [
    "for col in object_col:\n",
    "    le.fit(df_copy[col])\n",
    "    df_copy[col] = le.transform(df_copy[col])\n",
    "    ohe.fit(df_copy[col].values.reshape(-1, 1))\n",
    "    ohecol = ohe.transform(df_copy[col].values.reshape(-1, 1)).toarray()\n",
    "    ohecol = pd.DataFrame(ohecol[:,1:],index=None)#columns=col+le.classes_\n",
    "    ohecol.columns = ohecol.columns.map(lambda x:str(x)+col)\n",
    "    train = pd.concat([train, ohecol],axis=1, ignore_index=False)"
   ]
  },
  {
   "cell_type": "code",
   "execution_count": null,
   "metadata": {},
   "outputs": [],
   "source": [
    "import numpy as np\n",
    "from sklearn.model_selection import train_test_split\n",
    "\"\"\"\n",
    "将以上数据划分为训练集和测试集，训练集用于建立模型，测试集用于测试模型预\n",
    "测准确率。使用 sklearn 的 model_selection 实现以上划分功能。\n",
    "\"\"\"\n",
    "X_train,X_test,y_train,y_test = train_test_split(np.array(train),np.array(df_copy[\"Price\"]),test_size=0.2)"
   ]
  },
  {
   "cell_type": "code",
   "execution_count": null,
   "metadata": {},
   "outputs": [],
   "source": [
    "# 创建模型\n",
    "from  sklearn.model_selection import KFold\n",
    "from  sklearn.tree import DecisionTreeRegressor\n",
    "from  sklearn.metrics import make_scorer\n",
    "from  sklearn.model_selection import GridSearchCV\n",
    "from  sklearn.metrics import r2_score\n",
    "\n"
   ]
  },
  {
   "cell_type": "code",
   "execution_count": null,
   "metadata": {},
   "outputs": [],
   "source": [
    "def fit_model(X,y):\n",
    "    cross_vaildator = KFold(10,shuffle=True)\n",
    "    regressor  = DecisionTreeRegressor()\n",
    "    \n",
    "    params = {'max_depth':[1,2,3,4,6,5,7,9,10]}\n",
    "    scoring_fnc = make_scorer(performance_metric)\n",
    "    # 基于X，y进行网格搜索\n",
    "    grid = GridSearchCV(estimator=regressor,param_grid=params,scoring=scoring_fnc,cv = cross_vaildator)\n",
    "    grid.fit(X,y)\n",
    "    return grid.best_estimator_\n",
    "\n",
    "def performance_metric(y_ture,y_pred):\n",
    "    return r2_score(y_ture,y_pred)\n"
   ]
  },
  {
   "cell_type": "code",
   "execution_count": null,
   "metadata": {},
   "outputs": [],
   "source": [
    "# # 分析模型\n",
    "# vs.ModelLearning(X_train, y_trian)\n",
    "# vs.ModelComplexity(features_train, prices_train)\n",
    "optimal_reg1 = fit_model(X_train, y_train)\n",
    "# 输出最优模型的 'max_depth' 参数\n",
    "print(\"最理想模型的参数 'max_depth' 是 {} 。\".format(optimal_reg1.get_params()['max_depth']))\n",
    "# 由于决策树容易过拟合的问题，我们这里采取观察学习曲线的方法查看决策树深\n",
    "# 度，并判断模型是否出现了过拟合现象。以下是观察到的学习曲线图形：\n",
    "predicted_value = optimal_reg1.predict(X_test)\n",
    "r2 = performance_metric(y_test, predicted_value)\n",
    "print(\"最优模型在测试数据上 R^2 分数 {:,.2f}。\".format(r2))"
   ]
  },
  {
   "cell_type": "code",
   "execution_count": null,
   "metadata": {},
   "outputs": [],
   "source": [
    "from  sklearn.linear_model import  LogisticRegression\n",
    "from  sklearn.metrics import accuracy_score,precision_score,f1_score,recall_score\n",
    "logist = LogisticRegression()\n",
    "logist.fit(X_train,y_train.astype('int'))\n",
    "y_pred = logist.predict(X_test)\n"
   ]
  },
  {
   "cell_type": "code",
   "execution_count": 127,
   "metadata": {},
   "outputs": [
    {
     "name": "stdout",
     "output_type": "stream",
     "text": [
      "最优模型在测试数据上 R^2 分数 0.48。\n"
     ]
    }
   ],
   "source": [
    "r2 = performance_metric(y_test, y_pred)\n",
    "print (\"最优模型在测试数据上 R^2 分数 {:,.2f}。\".format(r2))\n"
   ]
  },
  {
   "cell_type": "code",
   "execution_count": null,
   "metadata": {},
   "outputs": [],
   "source": []
  }
 ],
 "metadata": {
  "kernelspec": {
   "display_name": "Python [conda env:vir-373] *",
   "language": "python",
   "name": "conda-env-vir-373-py"
  },
  "language_info": {
   "codemirror_mode": {
    "name": "ipython",
    "version": 3
   },
   "file_extension": ".py",
   "mimetype": "text/x-python",
   "name": "python",
   "nbconvert_exporter": "python",
   "pygments_lexer": "ipython3",
   "version": "3.7.3"
  }
 },
 "nbformat": 4,
 "nbformat_minor": 4
}
